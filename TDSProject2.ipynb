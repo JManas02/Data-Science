{
  "cells": [
    {
      "cell_type": "markdown",
      "metadata": {
        "id": "view-in-github",
        "colab_type": "text"
      },
      "source": [
        "<a href=\"https://colab.research.google.com/github/JManas02/Data-Science/blob/main/TDSProject2.ipynb\" target=\"_parent\"><img src=\"https://colab.research.google.com/assets/colab-badge.svg\" alt=\"Open In Colab\"/></a>"
      ]
    },
    {
      "cell_type": "markdown",
      "metadata": {
        "id": "10QNxV3ozfpN"
      },
      "source": [
        "# TDS PROJECTS 2"
      ]
    },
    {
      "cell_type": "markdown",
      "metadata": {
        "id": "j3fhyD9szfpc"
      },
      "source": [
        "### How to use these files\n",
        "Download and place the **.csv** files in the same folder and run the codes"
      ]
    },
    {
      "cell_type": "markdown",
      "metadata": {
        "id": "xQC-e7Czzfpc"
      },
      "source": [
        "## Importing packages"
      ]
    },
    {
      "cell_type": "code",
      "execution_count": null,
      "metadata": {
        "id": "0OyD7LPYzfpd"
      },
      "outputs": [],
      "source": [
        "import pandas as pd\n",
        "from textblob import TextBlob"
      ]
    },
    {
      "cell_type": "markdown",
      "metadata": {
        "id": "HqWeJgeIzfpe"
      },
      "source": [
        "# Q1"
      ]
    },
    {
      "cell_type": "code",
      "execution_count": null,
      "metadata": {
        "colab": {
          "base_uri": "https://localhost:8080/"
        },
        "id": "XmWbjRrCzfpe",
        "outputId": "779cd65a-24c4-47b7-89a6-c7092ed21f07"
      },
      "outputs": [
        {
          "output_type": "stream",
          "name": "stdout",
          "text": [
            "The number of books without an original title: 72\n"
          ]
        }
      ],
      "source": [
        "# Load the CSV file into a pandas DataFrame\n",
        "file_path = \"books.csv\"\n",
        "data = pd.read_csv(file_path)\n",
        "\n",
        "# Check how many rows do not have an original title\n",
        "missing_original_title_count = data['original_title'].isnull().sum()\n",
        "apple=missing_original_title_count\n",
        "\n",
        "print(f\"The number of books without an original title: {missing_original_title_count}\")"
      ]
    },
    {
      "cell_type": "markdown",
      "metadata": {
        "id": "-3CNkqMezfpe"
      },
      "source": [
        "# Q2"
      ]
    },
    {
      "cell_type": "code",
      "execution_count": null,
      "metadata": {
        "colab": {
          "base_uri": "https://localhost:8080/"
        },
        "id": "vnRJMy5tzfpe",
        "outputId": "a96a89bb-8c63-474d-ff77-6fb4b3bea6fa"
      },
      "outputs": [
        {
          "output_type": "stream",
          "name": "stdout",
          "text": [
            "The number of unique books in the dataset is: 1643\n"
          ]
        }
      ],
      "source": [
        "# Load the books.csv file into a DataFrame\n",
        "books_df = pd.read_csv('books.csv')\n",
        "\n",
        "# Count the number of unique books based on 'book_id'\n",
        "unique_books_count = books_df['book_id'].nunique()\n",
        "\n",
        "print(f\"The number of unique books in the dataset is: {unique_books_count}\")"
      ]
    },
    {
      "cell_type": "markdown",
      "metadata": {
        "id": "tdmQyPR7zfpf"
      },
      "source": [
        "# Q3"
      ]
    },
    {
      "cell_type": "code",
      "execution_count": null,
      "metadata": {
        "colab": {
          "base_uri": "https://localhost:8080/"
        },
        "id": "Up939FdPzfpf",
        "outputId": "7c675b9b-6893-4b18-a76c-15b70bf8d8db"
      },
      "outputs": [
        {
          "output_type": "stream",
          "name": "stdout",
          "text": [
            "Number of unique users: 19030\n"
          ]
        }
      ],
      "source": [
        "# Load the CSV file into a DataFrame\n",
        "df = pd.read_csv(\"ratings.csv\")\n",
        "\n",
        "# Count the number of unique user IDs\n",
        "unique_users_count = df['user_id'].nunique()\n",
        "\n",
        "print(f\"Number of unique users: {unique_users_count}\")"
      ]
    },
    {
      "cell_type": "markdown",
      "metadata": {
        "id": "OGBi4Z_1zfpf"
      },
      "source": [
        "# Q4"
      ]
    },
    {
      "cell_type": "code",
      "execution_count": null,
      "metadata": {
        "colab": {
          "base_uri": "https://localhost:8080/"
        },
        "id": "Hm7XnAmLzfpg",
        "outputId": "8310b429-e1c7-40c5-c18c-39f73deedaf0"
      },
      "outputs": [
        {
          "output_type": "stream",
          "name": "stdout",
          "text": [
            "The book with the maximum number of ratings is: Harry Potter and the Sorcerer's Stone (Harry Potter, #1)\n"
          ]
        }
      ],
      "source": [
        "# Load the books.csv file into a DataFrame\n",
        "books_df = pd.read_csv('books.csv')\n",
        "\n",
        "# Find the book title with the maximum number of ratings\n",
        "max_ratings_book_title = books_df.loc[books_df['work_ratings_count'].idxmax(), 'title']\n",
        "\n",
        "print(f\"The book with the maximum number of ratings is: {max_ratings_book_title}\")"
      ]
    },
    {
      "cell_type": "markdown",
      "metadata": {
        "id": "ri6X3bCszfpg"
      },
      "source": [
        "# Q5"
      ]
    },
    {
      "cell_type": "code",
      "execution_count": null,
      "metadata": {
        "colab": {
          "base_uri": "https://localhost:8080/"
        },
        "id": "RZLS88G-zfpg",
        "outputId": "1c063cdf-8f30-45ef-a07c-1f1667666eb5"
      },
      "outputs": [
        {
          "output_type": "stream",
          "name": "stdout",
          "text": [
            "11295\n"
          ]
        }
      ],
      "source": [
        "# Load the book_tags.csv file into a DataFrame\n",
        "book_tags_df = pd.read_csv('book_tags.csv')\n",
        "\n",
        "# Count the number of unique tags\n",
        "unique_tags_count = book_tags_df['tag_id'].nunique()\n",
        "\n",
        "print(unique_tags_count)"
      ]
    },
    {
      "cell_type": "markdown",
      "metadata": {
        "id": "9Z4Ppazwzfpg"
      },
      "source": [
        "# Q6"
      ]
    },
    {
      "cell_type": "code",
      "execution_count": null,
      "metadata": {
        "colab": {
          "base_uri": "https://localhost:8080/"
        },
        "id": "r_Q-xGktzfph",
        "outputId": "8b896905-661e-4eb4-b3a9-3a24f0c7364a"
      },
      "outputs": [
        {
          "output_type": "stream",
          "name": "stdout",
          "text": [
            "The book with the most number of tag counts is: Harry Potter and the Sorcerer's Stone (Harry Potter, #1)\n"
          ]
        }
      ],
      "source": [
        "# Load the CSV files into DataFrames\n",
        "book_tags_df = pd.read_csv('book_tags.csv')\n",
        "books_df = pd.read_csv('books.csv')\n",
        "\n",
        "# Merge book_tags_df and books_df on 'goodreads_book_id'\n",
        "merged_df = pd.merge(book_tags_df, books_df, left_on='goodreads_book_id', right_on='goodreads_book_id')\n",
        "\n",
        "# Group by book title and sum the 'count' column\n",
        "tag_counts_per_book = merged_df.groupby('title')['count'].sum()\n",
        "\n",
        "# Find the book title with the maximum tag counts\n",
        "max_tag_count_book_title = tag_counts_per_book.idxmax()\n",
        "\n",
        "print(f\"The book with the most number of tag counts is: {max_tag_count_book_title}\")"
      ]
    },
    {
      "cell_type": "markdown",
      "metadata": {
        "id": "oNBvbN_Mzfph"
      },
      "source": [
        "# Q7"
      ]
    },
    {
      "cell_type": "code",
      "execution_count": null,
      "metadata": {
        "colab": {
          "base_uri": "https://localhost:8080/"
        },
        "id": "qr9eDwI4zfph",
        "outputId": "d336862a-914d-4989-868e-2f577b2cbfab"
      },
      "outputs": [
        {
          "output_type": "stream",
          "name": "stdout",
          "text": [
            "168668\n"
          ]
        }
      ],
      "source": [
        "# Load the to_read.csv file into a DataFrame\n",
        "to_read_df = pd.read_csv('toread.csv')\n",
        "\n",
        "# Group by book_id and count the number of users who marked each book as \"to-read\"\n",
        "to_read_counts = to_read_df['book_id'].value_counts()\n",
        "\n",
        "# Get the book_id with the most \"to-read\" counts\n",
        "most_to_read_book_id = to_read_counts.idxmax()\n",
        "\n",
        "# Load the books.csv file into a DataFrame\n",
        "books_df = pd.read_csv('books.csv')\n",
        "\n",
        "# Find the goodreads_book_id using the most_to_read_book_id\n",
        "most_to_read_goodreads_book_id = books_df.loc[books_df['book_id'] == most_to_read_book_id, 'goodreads_book_id'].values[0]\n",
        "\n",
        "print(most_to_read_goodreads_book_id)\n"
      ]
    },
    {
      "cell_type": "markdown",
      "metadata": {
        "id": "qlGcnPupzfpi"
      },
      "source": [
        "# Q8"
      ]
    },
    {
      "cell_type": "code",
      "execution_count": null,
      "metadata": {
        "colab": {
          "base_uri": "https://localhost:8080/"
        },
        "id": "ZkTUlZR5zfpi",
        "outputId": "3db9f1ef-c9ce-4490-e8dc-049968c25a72"
      },
      "outputs": [
        {
          "output_type": "stream",
          "name": "stdout",
          "text": [
            "Least used tag ID: 3\n",
            "Number of books mapped to the least used tag: 1\n"
          ]
        }
      ],
      "source": [
        "# Load the CSV file into a DataFrame\n",
        "df = pd.read_csv(\"book_tags.csv\")\n",
        "\n",
        "# Group by tag_id and count the number of occurrences\n",
        "tag_counts = df.groupby('tag_id')['goodreads_book_id'].count()\n",
        "\n",
        "# Find the tag with the lowest count\n",
        "least_used_tag_id = tag_counts.idxmin()\n",
        "least_used_tag_count = tag_counts.min()\n",
        "\n",
        "print(f\"Least used tag ID: {least_used_tag_id}\")\n",
        "print(f\"Number of books mapped to the least used tag: {least_used_tag_count}\")"
      ]
    },
    {
      "cell_type": "markdown",
      "metadata": {
        "id": "ACUuTfOZzfpi"
      },
      "source": [
        "# Q9"
      ]
    },
    {
      "cell_type": "code",
      "execution_count": null,
      "metadata": {
        "colab": {
          "base_uri": "https://localhost:8080/"
        },
        "id": "PzFk3ol1zfpi",
        "outputId": "b89a0fc7-2b78-4ef2-d576-54a23c8b1b8a"
      },
      "outputs": [
        {
          "output_type": "stream",
          "name": "stdout",
          "text": [
            "The book with the minimum average rating is: One Night at the Call Center\n"
          ]
        }
      ],
      "source": [
        "# Load the books.csv file into a DataFrame\n",
        "books_df = pd.read_csv('books.csv')\n",
        "\n",
        "# Find the book title with the minimum average rating\n",
        "min_avg_rating_books = books_df[books_df['average_rating'] == books_df['average_rating'].min()]\n",
        "\n",
        "# Sort the tied books by title in alphabetical order\n",
        "min_avg_rating_books_sorted = min_avg_rating_books.sort_values(by='title')\n",
        "\n",
        "# Get the first book's title from the sorted list\n",
        "min_avg_rating_book_title = min_avg_rating_books_sorted.iloc[0]['title']\n",
        "\n",
        "print(f\"The book with the minimum average rating is: {min_avg_rating_book_title}\")"
      ]
    },
    {
      "cell_type": "markdown",
      "metadata": {
        "id": "nLobX4jYzfpi"
      },
      "source": [
        "# Q10"
      ]
    },
    {
      "cell_type": "code",
      "execution_count": null,
      "metadata": {
        "colab": {
          "base_uri": "https://localhost:8080/"
        },
        "id": "v-1BC1H4zfpj",
        "outputId": "74bbf914-e132-4498-8ce8-5cf469eb9cc0"
      },
      "outputs": [
        {
          "output_type": "stream",
          "name": "stdout",
          "text": [
            "290039\n"
          ]
        }
      ],
      "source": [
        "# Load the book_tags.csv file into a DataFrame\n",
        "book_tags_df = pd.read_csv('book_tags.csv')\n",
        "\n",
        "# Group by book_id and calculate the total count for each book\n",
        "book_tag_counts = book_tags_df.groupby('goodreads_book_id')['count'].sum()\n",
        "\n",
        "# Find the book_id with the minimum total count (least number of tags)\n",
        "least_tag_count_book_id = book_tag_counts.idxmin()\n",
        "\n",
        "print(least_tag_count_book_id)"
      ]
    },
    {
      "cell_type": "markdown",
      "metadata": {
        "id": "Lk0DommRzfpj"
      },
      "source": [
        "# Q11"
      ]
    },
    {
      "cell_type": "code",
      "execution_count": null,
      "metadata": {
        "colab": {
          "base_uri": "https://localhost:8080/"
        },
        "id": "bluhYG9szfpj",
        "outputId": "69b2601d-f4e3-41c6-d2b5-116a1010f598"
      },
      "outputs": [
        {
          "output_type": "stream",
          "name": "stdout",
          "text": [
            "11295\n"
          ]
        }
      ],
      "source": [
        "# Load the book_tags.csv file into a DataFrame\n",
        "book_tags_df = pd.read_csv('book_tags.csv')\n",
        "\n",
        "# Count the number of unique tags\n",
        "unique_tags_count = book_tags_df['tag_id'].nunique()\n",
        "\n",
        "print(unique_tags_count)"
      ]
    },
    {
      "cell_type": "markdown",
      "source": [
        "# Q12"
      ],
      "metadata": {
        "id": "LO5oSX4H01_3"
      }
    },
    {
      "cell_type": "code",
      "source": [
        "# Load the books.csv file into a DataFrame\n",
        "books_df = pd.read_csv('books.csv')\n",
        "\n",
        "# Calculate the mean value of the ratings based on 'average_rating' column\n",
        "mean_rating = books_df['average_rating'].mean()\n",
        "\n",
        "print(f\"The mean value of ratings of all books is: {mean_rating}\")\n"
      ],
      "metadata": {
        "colab": {
          "base_uri": "https://localhost:8080/"
        },
        "id": "V0r93yph05Fx",
        "outputId": "c466dbfd-b0dc-4c3b-8b31-abe1887a3b59"
      },
      "execution_count": null,
      "outputs": [
        {
          "output_type": "stream",
          "name": "stdout",
          "text": [
            "The mean value of ratings of all books is: 3.9657334144856966\n"
          ]
        }
      ]
    },
    {
      "cell_type": "markdown",
      "metadata": {
        "id": "a9JJF7cpzfpj"
      },
      "source": [
        "# Q14"
      ]
    },
    {
      "cell_type": "code",
      "execution_count": null,
      "metadata": {
        "colab": {
          "base_uri": "https://localhost:8080/"
        },
        "id": "FpNEn8tRzfpj",
        "outputId": "fc1156f5-eac8-41a0-8d69-bf39d96b679f"
      },
      "outputs": [
        {
          "output_type": "stream",
          "name": "stdout",
          "text": [
            "The number of positive titles is: 1429\n"
          ]
        }
      ],
      "source": [
        "# Load the books.csv file into a DataFrame\n",
        "books_df = pd.read_csv('books.csv')\n",
        "\n",
        "# Define a function to predict sentiment using TextBlob\n",
        "def get_sentiment(text):\n",
        "    blob = TextBlob(str(text))  # Convert to string to handle NaN values\n",
        "    return blob.sentiment.polarity\n",
        "\n",
        "# Apply the sentiment function to the 'original_title' column and create a new 'sentiment' column\n",
        "books_df['sentiment'] = books_df['original_title'].apply(get_sentiment)\n",
        "\n",
        "# Count the number of positive titles (titles with positive sentiment)\n",
        "positive_titles_count = (books_df['sentiment'] >= 0).sum()\n",
        "banana=positive_titles_count-apple\n",
        "print(f\"The number of positive titles is: {banana}\")"
      ]
    },
    {
      "cell_type": "markdown",
      "metadata": {
        "id": "Xk5FMf-Rzfpk"
      },
      "source": [
        "# *Authored by MoonWrecker using Gpt*"
      ]
    }
  ],
  "metadata": {
    "kernelspec": {
      "display_name": "Python 3",
      "language": "python",
      "name": "python3"
    },
    "language_info": {
      "codemirror_mode": {
        "name": "ipython",
        "version": 3
      },
      "file_extension": ".py",
      "mimetype": "text/x-python",
      "name": "python",
      "nbconvert_exporter": "python",
      "pygments_lexer": "ipython3",
      "version": "3.11.1"
    },
    "orig_nbformat": 4,
    "colab": {
      "provenance": [],
      "include_colab_link": true
    }
  },
  "nbformat": 4,
  "nbformat_minor": 0
}